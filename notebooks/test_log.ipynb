{
 "cells": [
  {
   "cell_type": "code",
   "execution_count": 1,
   "metadata": {},
   "outputs": [
    {
     "name": "stdout",
     "output_type": "stream",
     "text": [
      "['/home/emanuele/Dottorato/on-going/label_anythings/LabelAnything/notebooks', '/home/emanuele/Dottorato/on-going/label_anythings/LabelAnything/notebooks', '/home/emanuele/Workspace/pynaoqi', '/usr/local/lib/python38.zip', '/usr/local/lib/python3.8', '/usr/local/lib/python3.8/lib-dynload', '', '/home/emanuele/Dottorato/on-going/label_anythings/LabelAnything/venv/lib/python3.8/site-packages', '/home/emanuele/Dottorato/on-going/label_anythings/LabelAnything', '/home/emanuele/Dottorato/on-going/label_anythings/LabelAnything/label_anything', '/home/emanuele/Dottorato/on-going/label_anythings/LabelAnything/label_anything/data']\n"
     ]
    }
   ],
   "source": [
    "from pathlib import Path\n",
    "import sys\n",
    "sys.path.append(str(Path.cwd().parent))\n",
    "sys.path.append(str(Path.cwd().parent / 'label_anything'))\n",
    "sys.path.append(str(Path.cwd().parent / 'label_anything' / 'data'))\n",
    "print(sys.path)"
   ]
  },
  {
   "cell_type": "code",
   "execution_count": 2,
   "metadata": {},
   "outputs": [],
   "source": [
    "import torch\n",
    "from PIL import Image\n",
    "from torchvision.transforms import Compose, PILToTensor\n",
    "from label_anything.data.transforms import CustomNormalize, CustomResize\n",
    "from label_anything.data.dataset import LabelAnythingDataset\n",
    "import numpy as np\n",
    "import matplotlib.pyplot as plt\n",
    "from label_anything.logger.text_logger import get_logger\n",
    "from label_anything.logger.utils import (\n",
    "    extract_boxes_from_tensor,\n",
    "    image_with_points,\n",
    "    structure_annotations\n",
    ")\n",
    "import comet_ml\n",
    "from label_anything.logger.image_logger import Logger\n",
    "from torch.utils.data import DataLoader\n",
    "import cv2\n",
    "from torchvision.transforms.functional import resize"
   ]
  },
  {
   "cell_type": "code",
   "execution_count": 3,
   "metadata": {},
   "outputs": [],
   "source": [
    "comet_ml.init(project_name='label-anything')"
   ]
  },
  {
   "cell_type": "code",
   "execution_count": 4,
   "metadata": {},
   "outputs": [
    {
     "name": "stderr",
     "output_type": "stream",
     "text": [
      "\u001b[1;38;5;214mCOMET WARNING:\u001b[0m To get all data logged automatically, import comet_ml before the following modules: torch.\n",
      "\u001b[1;38;5;214mCOMET WARNING:\u001b[0m As you are running in a Jupyter environment, you will need to call `experiment.end()` when finished to ensure all metrics and code are logged before exiting.\n",
      "[codecarbon INFO @ 19:11:38] [setup] RAM Tracking...\n",
      "[codecarbon INFO @ 19:11:38] [setup] GPU Tracking...\n",
      "[codecarbon INFO @ 19:11:39] No GPU found.\n",
      "[codecarbon INFO @ 19:11:39] [setup] CPU Tracking...\n",
      "[codecarbon WARNING @ 19:11:39] No CPU tracking mode found. Falling back on CPU constant mode.\n",
      "[codecarbon INFO @ 19:11:39] CPU Model on constant consumption mode: 11th Gen Intel(R) Core(TM) i7-1185G7 @ 3.00GHz\n",
      "[codecarbon INFO @ 19:11:39] >>> Tracker's metadata:\n",
      "[codecarbon INFO @ 19:11:39]   Platform system: Linux-6.5.0-4-amd64-x86_64-with-glibc2.34\n",
      "[codecarbon INFO @ 19:11:39]   Python version: 3.8.18\n",
      "[codecarbon INFO @ 19:11:39]   CodeCarbon version: 2.3.1\n",
      "[codecarbon INFO @ 19:11:39]   Available RAM : 15.323 GB\n",
      "[codecarbon INFO @ 19:11:39]   CPU count: 8\n",
      "[codecarbon INFO @ 19:11:39]   CPU model: 11th Gen Intel(R) Core(TM) i7-1185G7 @ 3.00GHz\n",
      "[codecarbon INFO @ 19:11:39]   GPU count: None\n",
      "[codecarbon INFO @ 19:11:39]   GPU model: None\n",
      "\u001b[1;38;5;39mCOMET INFO:\u001b[0m Experiment is live on comet.com https://www.comet.com/carpidiem98/label-anything/c7c9696b7b8d4d58b9cf7182a0fb8411\n",
      "\n"
     ]
    }
   ],
   "source": [
    "experiment = comet_ml.Experiment()\n",
    "logger = Logger(experiment)"
   ]
  },
  {
   "cell_type": "code",
   "execution_count": 5,
   "metadata": {},
   "outputs": [],
   "source": [
    "preprocess = Compose([\n",
    "    CustomResize(1024),\n",
    "    PILToTensor(),\n",
    "    CustomNormalize(1024)\n",
    "])"
   ]
  },
  {
   "cell_type": "code",
   "execution_count": 6,
   "metadata": {},
   "outputs": [
    {
     "name": "stdout",
     "output_type": "stream",
     "text": [
      "Loading gt\n",
      "Using json\n"
     ]
    },
    {
     "name": "stderr",
     "output_type": "stream",
     "text": [
      "[codecarbon INFO @ 19:11:59] Energy consumed for RAM : 0.000027 kWh. RAM Power : 5.746290206909181 W\n",
      "[codecarbon INFO @ 19:11:59] Energy consumed for all CPUs : 0.000065 kWh. Total CPU Power : 14.0 W\n",
      "[codecarbon INFO @ 19:11:59] 0.000092 kWh of electricity used since the beginning.\n"
     ]
    }
   ],
   "source": [
    "dataset = LabelAnythingDataset(\n",
    "    instances_path=\"/home/emanuele/Dottorato/on-going/label_anythings/LabelAnything/label_anything/data/raw/annotations/instances_train2017.json\",\n",
    "    img_dir=\"/home/emanuele/Downloads/train2017\",\n",
    "    preprocess=preprocess,\n",
    ")"
   ]
  },
  {
   "cell_type": "code",
   "execution_count": 7,
   "metadata": {},
   "outputs": [],
   "source": [
    "dataloader = DataLoader(\n",
    "    dataset=dataset,\n",
    "    batch_size=2,\n",
    "    collate_fn=dataset.collate_fn,\n",
    "    shuffle=False,\n",
    ")"
   ]
  },
  {
   "cell_type": "code",
   "execution_count": 8,
   "metadata": {},
   "outputs": [],
   "source": [
    "batch, gt = next(iter(dataloader))"
   ]
  },
  {
   "cell_type": "code",
   "execution_count": null,
   "metadata": {},
   "outputs": [
    {
     "name": "stdout",
     "output_type": "stream",
     "text": [
      "key: images, value: torch.Size([2, 3, 3, 1024, 1024])\n",
      "key: prompt_points, value: torch.Size([2, 3, 5, 3, 2])\n",
      "key: flag_points, value: torch.Size([2, 3, 5, 3])\n",
      "key: prompt_bboxes, value: torch.Size([2, 3, 5, 5, 4])\n",
      "key: flag_bboxes, value: torch.Size([2, 3, 5, 5])\n",
      "key: prompt_masks, value: torch.Size([2, 3, 5, 256, 256])\n",
      "key: flag_masks, value: torch.Size([2, 3, 5])\n",
      "key: dims, value: torch.Size([2, 3, 2])\n",
      "key: classes, value: 2\n",
      "key: flag_gts, value: torch.Size([2, 5])\n",
      "gt: torch.Size([2, 3, 640, 640])\n"
     ]
    },
    {
     "name": "stderr",
     "output_type": "stream",
     "text": [
      "[codecarbon INFO @ 19:12:14] Energy consumed for RAM : 0.000050 kWh. RAM Power : 5.746290206909181 W\n",
      "[codecarbon INFO @ 19:12:14] Energy consumed for all CPUs : 0.000122 kWh. Total CPU Power : 14.0 W\n",
      "[codecarbon INFO @ 19:12:14] 0.000172 kWh of electricity used since the beginning.\n",
      "[codecarbon INFO @ 19:12:29] Energy consumed for RAM : 0.000074 kWh. RAM Power : 5.746290206909181 W\n",
      "[codecarbon INFO @ 19:12:29] Energy consumed for all CPUs : 0.000181 kWh. Total CPU Power : 14.0 W\n",
      "[codecarbon INFO @ 19:12:29] 0.000255 kWh of electricity used since the beginning.\n",
      "[codecarbon INFO @ 19:12:44] Energy consumed for RAM : 0.000098 kWh. RAM Power : 5.746290206909181 W\n",
      "[codecarbon INFO @ 19:12:44] Energy consumed for all CPUs : 0.000239 kWh. Total CPU Power : 14.0 W\n",
      "[codecarbon INFO @ 19:12:44] 0.000337 kWh of electricity used since the beginning.\n",
      "[codecarbon INFO @ 19:12:59] Energy consumed for RAM : 0.000122 kWh. RAM Power : 5.746290206909181 W\n",
      "[codecarbon INFO @ 19:12:59] Energy consumed for all CPUs : 0.000297 kWh. Total CPU Power : 14.0 W\n",
      "[codecarbon INFO @ 19:12:59] 0.000419 kWh of electricity used since the beginning.\n",
      "[codecarbon INFO @ 19:13:14] Energy consumed for RAM : 0.000146 kWh. RAM Power : 5.746290206909181 W\n",
      "[codecarbon INFO @ 19:13:14] Energy consumed for all CPUs : 0.000356 kWh. Total CPU Power : 14.0 W\n",
      "[codecarbon INFO @ 19:13:14] 0.000502 kWh of electricity used since the beginning.\n",
      "[codecarbon INFO @ 19:13:29] Energy consumed for RAM : 0.000170 kWh. RAM Power : 5.746290206909181 W\n",
      "[codecarbon INFO @ 19:13:29] Energy consumed for all CPUs : 0.000414 kWh. Total CPU Power : 14.0 W\n",
      "[codecarbon INFO @ 19:13:29] 0.000584 kWh of electricity used since the beginning.\n",
      "[codecarbon INFO @ 19:13:44] Energy consumed for RAM : 0.000194 kWh. RAM Power : 5.746290206909181 W\n",
      "[codecarbon INFO @ 19:13:44] Energy consumed for all CPUs : 0.000472 kWh. Total CPU Power : 14.0 W\n",
      "[codecarbon INFO @ 19:13:44] 0.000666 kWh of electricity used since the beginning.\n",
      "[codecarbon INFO @ 19:13:59] Energy consumed for RAM : 0.000218 kWh. RAM Power : 5.746290206909181 W\n",
      "[codecarbon INFO @ 19:13:59] Energy consumed for all CPUs : 0.000531 kWh. Total CPU Power : 14.0 W\n",
      "[codecarbon INFO @ 19:13:59] 0.000748 kWh of electricity used since the beginning.\n",
      "[codecarbon INFO @ 19:14:14] Energy consumed for RAM : 0.000242 kWh. RAM Power : 5.746290206909181 W\n",
      "[codecarbon INFO @ 19:14:14] Energy consumed for all CPUs : 0.000589 kWh. Total CPU Power : 14.0 W\n",
      "[codecarbon INFO @ 19:14:14] 0.000831 kWh of electricity used since the beginning.\n",
      "[codecarbon INFO @ 19:14:29] Energy consumed for RAM : 0.000266 kWh. RAM Power : 5.746290206909181 W\n",
      "[codecarbon INFO @ 19:14:29] Energy consumed for all CPUs : 0.000647 kWh. Total CPU Power : 14.0 W\n",
      "[codecarbon INFO @ 19:14:29] 0.000913 kWh of electricity used since the beginning.\n",
      "[codecarbon INFO @ 19:14:44] Energy consumed for RAM : 0.000289 kWh. RAM Power : 5.746290206909181 W\n",
      "[codecarbon INFO @ 19:14:44] Energy consumed for all CPUs : 0.000706 kWh. Total CPU Power : 14.0 W\n",
      "[codecarbon INFO @ 19:14:44] 0.000995 kWh of electricity used since the beginning.\n",
      "[codecarbon INFO @ 19:14:59] Energy consumed for RAM : 0.000313 kWh. RAM Power : 5.746290206909181 W\n",
      "[codecarbon INFO @ 19:14:59] Energy consumed for all CPUs : 0.000764 kWh. Total CPU Power : 14.0 W\n",
      "[codecarbon INFO @ 19:14:59] 0.001077 kWh of electricity used since the beginning.\n",
      "[codecarbon INFO @ 19:15:14] Energy consumed for RAM : 0.000337 kWh. RAM Power : 5.746290206909181 W\n",
      "[codecarbon INFO @ 19:15:14] Energy consumed for all CPUs : 0.000822 kWh. Total CPU Power : 14.0 W\n",
      "[codecarbon INFO @ 19:15:14] 0.001160 kWh of electricity used since the beginning.\n",
      "[codecarbon INFO @ 19:15:29] Energy consumed for RAM : 0.000361 kWh. RAM Power : 5.746290206909181 W\n",
      "[codecarbon INFO @ 19:15:29] Energy consumed for all CPUs : 0.000881 kWh. Total CPU Power : 14.0 W\n",
      "[codecarbon INFO @ 19:15:29] 0.001242 kWh of electricity used since the beginning.\n",
      "[codecarbon INFO @ 19:15:44] Energy consumed for RAM : 0.000385 kWh. RAM Power : 5.746290206909181 W\n",
      "[codecarbon INFO @ 19:15:44] Energy consumed for all CPUs : 0.000939 kWh. Total CPU Power : 14.0 W\n",
      "[codecarbon INFO @ 19:15:44] 0.001324 kWh of electricity used since the beginning.\n",
      "[codecarbon INFO @ 19:15:59] Energy consumed for RAM : 0.000409 kWh. RAM Power : 5.746290206909181 W\n",
      "[codecarbon INFO @ 19:15:59] Energy consumed for all CPUs : 0.000997 kWh. Total CPU Power : 14.0 W\n",
      "[codecarbon INFO @ 19:15:59] 0.001406 kWh of electricity used since the beginning.\n",
      "[codecarbon INFO @ 19:16:14] Energy consumed for RAM : 0.000433 kWh. RAM Power : 5.746290206909181 W\n",
      "[codecarbon INFO @ 19:16:14] Energy consumed for all CPUs : 0.001056 kWh. Total CPU Power : 14.0 W\n",
      "[codecarbon INFO @ 19:16:14] 0.001489 kWh of electricity used since the beginning.\n",
      "[codecarbon INFO @ 19:16:29] Energy consumed for RAM : 0.000457 kWh. RAM Power : 5.746290206909181 W\n",
      "[codecarbon INFO @ 19:16:29] Energy consumed for all CPUs : 0.001114 kWh. Total CPU Power : 14.0 W\n",
      "[codecarbon INFO @ 19:16:29] 0.001571 kWh of electricity used since the beginning.\n",
      "[codecarbon INFO @ 19:16:44] Energy consumed for RAM : 0.000481 kWh. RAM Power : 5.746290206909181 W\n",
      "[codecarbon INFO @ 19:16:44] Energy consumed for all CPUs : 0.001172 kWh. Total CPU Power : 14.0 W\n",
      "[codecarbon INFO @ 19:16:44] 0.001653 kWh of electricity used since the beginning.\n",
      "[codecarbon INFO @ 19:16:59] Energy consumed for RAM : 0.000505 kWh. RAM Power : 5.746290206909181 W\n",
      "[codecarbon INFO @ 19:16:59] Energy consumed for all CPUs : 0.001231 kWh. Total CPU Power : 14.0 W\n",
      "[codecarbon INFO @ 19:16:59] 0.001736 kWh of electricity used since the beginning.\n",
      "[codecarbon INFO @ 19:17:14] Energy consumed for RAM : 0.000529 kWh. RAM Power : 5.746290206909181 W\n",
      "[codecarbon INFO @ 19:17:14] Energy consumed for all CPUs : 0.001289 kWh. Total CPU Power : 14.0 W\n",
      "[codecarbon INFO @ 19:17:14] 0.001818 kWh of electricity used since the beginning.\n",
      "[codecarbon INFO @ 19:17:29] Energy consumed for RAM : 0.000553 kWh. RAM Power : 5.746290206909181 W\n",
      "[codecarbon INFO @ 19:17:29] Energy consumed for all CPUs : 0.001347 kWh. Total CPU Power : 14.0 W\n",
      "[codecarbon INFO @ 19:17:29] 0.001900 kWh of electricity used since the beginning.\n",
      "[codecarbon INFO @ 19:17:44] Energy consumed for RAM : 0.000577 kWh. RAM Power : 5.746290206909181 W\n",
      "[codecarbon INFO @ 19:17:44] Energy consumed for all CPUs : 0.001406 kWh. Total CPU Power : 14.0 W\n",
      "[codecarbon INFO @ 19:17:44] 0.001982 kWh of electricity used since the beginning.\n",
      "[codecarbon INFO @ 19:17:59] Energy consumed for RAM : 0.000601 kWh. RAM Power : 5.746290206909181 W\n",
      "[codecarbon INFO @ 19:17:59] Energy consumed for all CPUs : 0.001464 kWh. Total CPU Power : 14.0 W\n",
      "[codecarbon INFO @ 19:17:59] 0.002065 kWh of electricity used since the beginning.\n",
      "[codecarbon INFO @ 19:18:14] Energy consumed for RAM : 0.000625 kWh. RAM Power : 5.746290206909181 W\n",
      "[codecarbon INFO @ 19:18:14] Energy consumed for all CPUs : 0.001522 kWh. Total CPU Power : 14.0 W\n",
      "[codecarbon INFO @ 19:18:14] 0.002147 kWh of electricity used since the beginning.\n",
      "[codecarbon INFO @ 19:18:29] Energy consumed for RAM : 0.000649 kWh. RAM Power : 5.746290206909181 W\n",
      "[codecarbon INFO @ 19:18:29] Energy consumed for all CPUs : 0.001581 kWh. Total CPU Power : 14.0 W\n",
      "[codecarbon INFO @ 19:18:29] 0.002229 kWh of electricity used since the beginning.\n",
      "[codecarbon INFO @ 19:18:44] Energy consumed for RAM : 0.000672 kWh. RAM Power : 5.746290206909181 W\n",
      "[codecarbon INFO @ 19:18:44] Energy consumed for all CPUs : 0.001639 kWh. Total CPU Power : 14.0 W\n",
      "[codecarbon INFO @ 19:18:44] 0.002311 kWh of electricity used since the beginning.\n",
      "[codecarbon INFO @ 19:18:59] Energy consumed for RAM : 0.000696 kWh. RAM Power : 5.746290206909181 W\n",
      "[codecarbon INFO @ 19:18:59] Energy consumed for all CPUs : 0.001697 kWh. Total CPU Power : 14.0 W\n",
      "[codecarbon INFO @ 19:18:59] 0.002394 kWh of electricity used since the beginning.\n",
      "[codecarbon INFO @ 19:19:14] Energy consumed for RAM : 0.000720 kWh. RAM Power : 5.746290206909181 W\n",
      "[codecarbon INFO @ 19:19:14] Energy consumed for all CPUs : 0.001756 kWh. Total CPU Power : 14.0 W\n",
      "[codecarbon INFO @ 19:19:14] 0.002476 kWh of electricity used since the beginning.\n",
      "[codecarbon INFO @ 19:19:29] Energy consumed for RAM : 0.000744 kWh. RAM Power : 5.746290206909181 W\n",
      "[codecarbon INFO @ 19:19:29] Energy consumed for all CPUs : 0.001814 kWh. Total CPU Power : 14.0 W\n",
      "[codecarbon INFO @ 19:19:29] 0.002558 kWh of electricity used since the beginning.\n",
      "[codecarbon INFO @ 19:19:44] Energy consumed for RAM : 0.000768 kWh. RAM Power : 5.746290206909181 W\n",
      "[codecarbon INFO @ 19:19:44] Energy consumed for all CPUs : 0.001872 kWh. Total CPU Power : 14.0 W\n",
      "[codecarbon INFO @ 19:19:44] 0.002640 kWh of electricity used since the beginning.\n",
      "[codecarbon INFO @ 19:19:59] Energy consumed for RAM : 0.000792 kWh. RAM Power : 5.746290206909181 W\n",
      "[codecarbon INFO @ 19:19:59] Energy consumed for all CPUs : 0.001931 kWh. Total CPU Power : 14.0 W\n",
      "[codecarbon INFO @ 19:19:59] 0.002723 kWh of electricity used since the beginning.\n",
      "[codecarbon INFO @ 19:20:14] Energy consumed for RAM : 0.000816 kWh. RAM Power : 5.746290206909181 W\n",
      "[codecarbon INFO @ 19:20:14] Energy consumed for all CPUs : 0.001989 kWh. Total CPU Power : 14.0 W\n",
      "[codecarbon INFO @ 19:20:14] 0.002805 kWh of electricity used since the beginning.\n",
      "[codecarbon INFO @ 19:20:29] Energy consumed for RAM : 0.000840 kWh. RAM Power : 5.746290206909181 W\n",
      "[codecarbon INFO @ 19:20:29] Energy consumed for all CPUs : 0.002047 kWh. Total CPU Power : 14.0 W\n",
      "[codecarbon INFO @ 19:20:29] 0.002887 kWh of electricity used since the beginning.\n",
      "[codecarbon INFO @ 19:20:44] Energy consumed for RAM : 0.000864 kWh. RAM Power : 5.746290206909181 W\n",
      "[codecarbon INFO @ 19:20:44] Energy consumed for all CPUs : 0.002106 kWh. Total CPU Power : 14.0 W\n",
      "[codecarbon INFO @ 19:20:44] 0.002970 kWh of electricity used since the beginning.\n",
      "[codecarbon INFO @ 19:20:59] Energy consumed for RAM : 0.000888 kWh. RAM Power : 5.746290206909181 W\n",
      "[codecarbon INFO @ 19:20:59] Energy consumed for all CPUs : 0.002164 kWh. Total CPU Power : 14.0 W\n",
      "[codecarbon INFO @ 19:20:59] 0.003052 kWh of electricity used since the beginning.\n",
      "[codecarbon INFO @ 19:21:14] Energy consumed for RAM : 0.000912 kWh. RAM Power : 5.746290206909181 W\n",
      "[codecarbon INFO @ 19:21:14] Energy consumed for all CPUs : 0.002222 kWh. Total CPU Power : 14.0 W\n",
      "[codecarbon INFO @ 19:21:14] 0.003134 kWh of electricity used since the beginning.\n",
      "[codecarbon INFO @ 19:21:29] Energy consumed for RAM : 0.000936 kWh. RAM Power : 5.746290206909181 W\n",
      "[codecarbon INFO @ 19:21:29] Energy consumed for all CPUs : 0.002281 kWh. Total CPU Power : 14.0 W\n",
      "[codecarbon INFO @ 19:21:29] 0.003216 kWh of electricity used since the beginning.\n",
      "[codecarbon INFO @ 19:21:44] Energy consumed for RAM : 0.000960 kWh. RAM Power : 5.746290206909181 W\n",
      "[codecarbon INFO @ 19:21:44] Energy consumed for all CPUs : 0.002339 kWh. Total CPU Power : 14.0 W\n",
      "[codecarbon INFO @ 19:21:44] 0.003299 kWh of electricity used since the beginning.\n",
      "[codecarbon INFO @ 19:21:59] Energy consumed for RAM : 0.000984 kWh. RAM Power : 5.746290206909181 W\n",
      "[codecarbon INFO @ 19:21:59] Energy consumed for all CPUs : 0.002397 kWh. Total CPU Power : 14.0 W\n",
      "[codecarbon INFO @ 19:21:59] 0.003381 kWh of electricity used since the beginning.\n",
      "[codecarbon INFO @ 19:22:14] Energy consumed for RAM : 0.001008 kWh. RAM Power : 5.746290206909181 W\n",
      "[codecarbon INFO @ 19:22:14] Energy consumed for all CPUs : 0.002456 kWh. Total CPU Power : 14.0 W\n",
      "[codecarbon INFO @ 19:22:14] 0.003463 kWh of electricity used since the beginning.\n"
     ]
    }
   ],
   "source": [
    "for k, v in batch.items():\n",
    "    if type(v) == list:\n",
    "        print(f\"key: {k}, value: {len(v)}\")\n",
    "    else:\n",
    "        print(f\"key: {k}, value: {v.shape}\")\n",
    "\n",
    "print(\"gt:\", gt.shape)"
   ]
  },
  {
   "cell_type": "code",
   "execution_count": null,
   "metadata": {},
   "outputs": [],
   "source": [
    "batch[\"images\"].shape"
   ]
  },
  {
   "cell_type": "code",
   "execution_count": null,
   "metadata": {},
   "outputs": [],
   "source": [
    "logger.log_batch(0, 0, batch, dataset.categories)"
   ]
  },
  {
   "cell_type": "code",
   "execution_count": null,
   "metadata": {},
   "outputs": [],
   "source": [
    "from label_anything.logger.utils import (\n",
    "    crop_padding,\n",
    "    extract_masks_dynamic,\n",
    "    extract_polygons_from_tensor,\n",
    "    resize_gt,\n",
    ")\n",
    "\n",
    "\n",
    "for k, v in batch.items():\n",
    "    if type(v) == list:\n",
    "        print(f\"{k}: {len(v)}\")\n",
    "    else:\n",
    "        print(f\"{k}: {v.shape}\")\n",
    "\n",
    "print(\"gt:\", gt.shape)"
   ]
  },
  {
   "cell_type": "code",
   "execution_count": null,
   "metadata": {},
   "outputs": [],
   "source": [
    "# def log_gt(batch_idx, step, input_dict, gt):\n",
    "batch_idx = 0\n",
    "step = 0\n",
    "input_dict = batch\n",
    "\n",
    "images = input_dict[\"images\"]\n",
    "dims = input_dict[\"dims\"]\n",
    "data = []\n",
    "categories = dataset.categories"
   ]
  },
  {
   "cell_type": "code",
   "execution_count": null,
   "metadata": {},
   "outputs": [],
   "source": [
    "from label_anything.logger.utils import take_image\n",
    "from label_anything.visualization.visualize import get_image\n",
    "\n",
    "\n",
    "def get_class_ids(classes):\n",
    "    res_classes = []\n",
    "    for c in classes:\n",
    "        max_len = 0\n",
    "        max_idx = 0\n",
    "        for i, x in enumerate(c):\n",
    "            max_len = max(max_len, len(x))\n",
    "            if len(x) == max_len:\n",
    "                max_idx = i\n",
    "        res_classes.append(list(c[max_idx]))\n",
    "    return res_classes\n",
    "\n",
    "\n",
    "classes = get_class_ids(input_dict[\"classes\"])\n",
    "data = []\n",
    "\n",
    "for b in range(gt.size(0)):\n",
    "    print(\"b\", b)\n",
    "    img = take_image(images[b, 0], dims[b, 0])\n",
    "    image = get_image(img)\n",
    "    n_gt = resize_gt(crop_padding(gt[b, 0]).float(), dims[b, 0])\n",
    "    masks = extract_masks_dynamic(n_gt)\n",
    "    #print(f\"masks: {len(masks)}\")\n",
    "    label = categories[classes[b][0]][\"name\"]\n",
    "    print(label)\n",
    "    for i, mask in enumerate(masks):\n",
    "        polygons = extract_polygons_from_tensor(mask)\n",
    "        data.append(\n",
    "            {\n",
    "                \"points\": polygons,\n",
    "                \"label\": label,\n",
    "                \"score\": None,\n",
    "            }\n",
    "        )\n",
    "\n",
    "\n",
    "annotations = [{\"name\": \"Ground T!\", \"data\": data}]"
   ]
  },
  {
   "cell_type": "code",
   "execution_count": null,
   "metadata": {},
   "outputs": [],
   "source": [
    "len(data)"
   ]
  },
  {
   "cell_type": "code",
   "execution_count": null,
   "metadata": {},
   "outputs": [],
   "source": [
    "logger.log_image(\n",
    "    image,\n",
    "    annotations,\n",
    ")"
   ]
  },
  {
   "cell_type": "code",
   "execution_count": null,
   "metadata": {},
   "outputs": [],
   "source": [
    "logger.log_gt(batch_idx, step, input_dict, gt, categories)\n",
    "# print(f\"image: {image}, annotations: {annotations}\")\n",
    "# logger.log_image(image, annotations)\n",
    "\n",
    "# for b in range(images.size(0)):\n",
    "#     image = images[b, 0]\n",
    "#     img = get_image(image)\n",
    "#     print(img)\n",
    "#     logger.log_image(img)\n",
    "#     for c in range(1, input_dict[\"prompt_masks\"].shape[2]):\n",
    "#         if c > len(classes[b]):\n",
    "#             break\n",
    "#         label = categories[classes[b][c - 1]][\"name\"]\n",
    "#         print(label)"
   ]
  },
  {
   "cell_type": "code",
   "execution_count": null,
   "metadata": {},
   "outputs": [],
   "source": [
    "label"
   ]
  },
  {
   "cell_type": "code",
   "execution_count": null,
   "metadata": {},
   "outputs": [],
   "source": [
    "\n",
    "for b in range(images.shape[0]):\n",
    "    print(b)\n",
    "    print(dims[b])\n",
    "    n_gt = resize_gt(crop_padding(gt[b, 0]).float(), dims[b, 0])\n",
    "    print(\"n_gt:\", n_gt.size())\n",
    "    masks = extract_masks_dynamic(n_gt)\n",
    "    print(f\"masks: {len(masks)}\")\n",
    "    for i, mask in enumerate(masks):\n",
    "        polygons = extract_polygons_from_tensor(mask)\n",
    "        data.append({\"points\": polygons, \"label\": label, \"score\": None})\n",
    "        print(f\"data: {len(data)}\")\n",
    "        print(data[0])\n",
    "        break\n",
    "    break\n",
    "annotations = [{\"name\": \"Ground truth\", \"data\": data}]"
   ]
  },
  {
   "cell_type": "code",
   "execution_count": null,
   "metadata": {},
   "outputs": [],
   "source": [
    "logger.log_image(image, annotations)"
   ]
  },
  {
   "cell_type": "code",
   "execution_count": null,
   "metadata": {},
   "outputs": [],
   "source": [
    "logger.log_gt(batch_idx, step, input_dict, gt)"
   ]
  },
  {
   "cell_type": "code",
   "execution_count": null,
   "metadata": {},
   "outputs": [],
   "source": [
    "type(annotations)\n",
    "annotations"
   ]
  },
  {
   "cell_type": "code",
   "execution_count": null,
   "metadata": {},
   "outputs": [],
   "source": []
  },
  {
   "cell_type": "code",
   "execution_count": null,
   "metadata": {},
   "outputs": [],
   "source": []
  },
  {
   "cell_type": "code",
   "execution_count": null,
   "metadata": {},
   "outputs": [],
   "source": [
    "def get_image(image_tensor):\n",
    "    MEAN = np.array([123.675, 116.280, 103.530]) / 255\n",
    "    STD = np.array([58.395, 57.120, 57.375]) / 255\n",
    "    unnormalized_image = (image_tensor.numpy() * np.array(STD)[:, None, None]) + np.array(MEAN)[:, None, None]\n",
    "    unnormalized_image = (unnormalized_image * 255).astype(np.uint8)\n",
    "    unnormalized_image = np.moveaxis(unnormalized_image, 0, -1)\n",
    "    return Image.fromarray(unnormalized_image)"
   ]
  },
  {
   "cell_type": "code",
   "execution_count": null,
   "metadata": {},
   "outputs": [],
   "source": [
    "mask = batch[\"prompt_masks\"][0, 2, 1]"
   ]
  },
  {
   "cell_type": "code",
   "execution_count": null,
   "metadata": {},
   "outputs": [],
   "source": [
    "mask.unsqueeze(0).shape"
   ]
  },
  {
   "cell_type": "code",
   "execution_count": null,
   "metadata": {},
   "outputs": [],
   "source": [
    "mask = resize(mask.unsqueeze(0), (1024, 1024), interpolation=Image.NEAREST)\n",
    "mask = np.array(mask).astype(np.uint8)"
   ]
  },
  {
   "cell_type": "code",
   "execution_count": null,
   "metadata": {},
   "outputs": [],
   "source": [
    "mask = mask.squeeze() "
   ]
  },
  {
   "cell_type": "code",
   "execution_count": null,
   "metadata": {},
   "outputs": [],
   "source": [
    "contours, _ = cv2.findContours(mask, cv2.RETR_TREE, cv2.CHAIN_APPROX_NONE)\n",
    "polygons = []\n",
    "\n",
    "for obj in contours:\n",
    "    coords = []\n",
    "        \n",
    "    for point in obj:\n",
    "        coords.append(int(point[0][0]))\n",
    "        coords.append(int(point[0][1]))\n",
    "\n",
    "    polygons.append(coords)"
   ]
  },
  {
   "cell_type": "code",
   "execution_count": null,
   "metadata": {},
   "outputs": [],
   "source": [
    "polygons"
   ]
  },
  {
   "cell_type": "code",
   "execution_count": null,
   "metadata": {},
   "outputs": [],
   "source": [
    "image = batch[\"images\"][0, 2]\n",
    "mask = batch[\"prompt_masks\"][0, 2, 1]\n",
    "annotations_mask = structure_annotations(\n",
    "    polygons,\n",
    ")\n",
    "logger.log_image(\n",
    "    get_image(image),\n",
    "    annotations_mask,\n",
    ")"
   ]
  }
 ],
 "metadata": {
  "kernelspec": {
   "display_name": ".venv",
   "language": "python",
   "name": "python3"
  },
  "language_info": {
   "codemirror_mode": {
    "name": "ipython",
    "version": 3
   },
   "file_extension": ".py",
   "mimetype": "text/x-python",
   "name": "python",
   "nbconvert_exporter": "python",
   "pygments_lexer": "ipython3",
   "version": "3.8.18"
  }
 },
 "nbformat": 4,
 "nbformat_minor": 2
}
