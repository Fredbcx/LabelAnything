{
 "cells": [
  {
   "cell_type": "code",
   "execution_count": 1,
   "metadata": {
    "collapsed": true
   },
   "outputs": [],
   "source": [
    "from label_anything.data.coco import CocoLVISTestDataset, CocoLVISDataset\n",
    "from label_anything.data.transforms import CustomResize, CustomNormalize\n",
    "from torchvision.transforms import Compose, PILToTensor\n",
    "from pathlib import Path"
   ]
  },
  {
   "cell_type": "code",
   "execution_count": 2,
   "outputs": [],
   "source": [
    "RAW_DATA_DIR = Path.cwd().parent / 'data' / 'raw'\n",
    "preprocess = Compose([\n",
    "    CustomResize(1024),\n",
    "    PILToTensor(),\n",
    "    CustomNormalize(),\n",
    "])"
   ],
   "metadata": {
    "collapsed": false
   }
  },
  {
   "cell_type": "code",
   "execution_count": 3,
   "outputs": [
    {
     "name": "stdout",
     "output_type": "stream",
     "text": [
      "Loading dataset annotations from /home/raffaele/art/LabelAnything/data/raw/annotations_trainval2017/annotations/instances_val2017.json...\n",
      "Loading dataset annotations from /home/raffaele/art/LabelAnything/data/raw/annotations_trainval2017/annotations/instances_train2017.json...\n"
     ]
    }
   ],
   "source": [
    "test_set = CocoLVISTestDataset(\n",
    "    name='coco',\n",
    "    instances_path=RAW_DATA_DIR / 'annotations_trainval2017' /'annotations' / 'instances_val2017.json',\n",
    "    preprocess=preprocess,\n",
    ")\n",
    "train_set = CocoLVISDataset(\n",
    "    name='coco',\n",
    "    instances_path=RAW_DATA_DIR / 'annotations_trainval2017' /'annotations' / 'instances_train2017.json',\n",
    "    preprocess=preprocess,\n",
    ")"
   ],
   "metadata": {
    "collapsed": false
   }
  },
  {
   "cell_type": "code",
   "execution_count": 4,
   "outputs": [
    {
     "data": {
      "text/plain": "(torch.Size([45, 3, 1024, 1024]),\n torch.Size([45, 80, 6, 4]),\n torch.Size([45, 80, 256, 256]),\n torch.Size([45, 80, 7, 2]),\n torch.Size([45, 2]))"
     },
     "execution_count": 4,
     "metadata": {},
     "output_type": "execute_result"
    }
   ],
   "source": [
    "images, boxes, masks, points, sizes = test_set.extract_prompts(\n",
    "    cat2img=train_set.cat2img,\n",
    "    img2cat=train_set.img2cat,\n",
    "    images=train_set.images,\n",
    "    img2cat_annotations=train_set.img2cat_annotations,\n",
    ")\n",
    "images.size(), boxes.size(), masks.size(), points.size(), sizes.size()"
   ],
   "metadata": {
    "collapsed": false
   }
  },
  {
   "cell_type": "code",
   "execution_count": 5,
   "outputs": [
    {
     "data": {
      "text/plain": "{'image': tensor([[[ 0.0056, -0.0287, -0.0801,  ..., -1.9638, -1.9295, -1.9124],\n          [-0.0629, -0.0629, -0.0801,  ..., -1.9638, -1.9295, -1.9124],\n          [-0.1486, -0.1143, -0.0972,  ..., -1.9124, -1.8782, -1.8782],\n          ...,\n          [ 0.0000,  0.0000,  0.0000,  ...,  0.0000,  0.0000,  0.0000],\n          [ 0.0000,  0.0000,  0.0000,  ...,  0.0000,  0.0000,  0.0000],\n          [ 0.0000,  0.0000,  0.0000,  ...,  0.0000,  0.0000,  0.0000]],\n \n         [[ 0.2052,  0.1877,  0.1527,  ..., -1.8606, -1.8256, -1.8081],\n          [ 0.2227,  0.2402,  0.2227,  ..., -1.8606, -1.8256, -1.8256],\n          [ 0.2577,  0.2927,  0.3102,  ..., -1.8256, -1.7906, -1.7906],\n          ...,\n          [ 0.0000,  0.0000,  0.0000,  ...,  0.0000,  0.0000,  0.0000],\n          [ 0.0000,  0.0000,  0.0000,  ...,  0.0000,  0.0000,  0.0000],\n          [ 0.0000,  0.0000,  0.0000,  ...,  0.0000,  0.0000,  0.0000]],\n \n         [[-0.4624, -0.5670, -0.6890,  ..., -1.5953, -1.5604, -1.5430],\n          [-0.5321, -0.5670, -0.6193,  ..., -1.6127, -1.5953, -1.5953],\n          [-0.6193, -0.5844, -0.5495,  ..., -1.5953, -1.5953, -1.5953],\n          ...,\n          [ 0.0000,  0.0000,  0.0000,  ...,  0.0000,  0.0000,  0.0000],\n          [ 0.0000,  0.0000,  0.0000,  ...,  0.0000,  0.0000,  0.0000],\n          [ 0.0000,  0.0000,  0.0000,  ...,  0.0000,  0.0000,  0.0000]]]),\n 'dim': tensor([427, 640]),\n 'gt': tensor([[0, 0, 0,  ..., 0, 0, 0],\n         [0, 0, 0,  ..., 0, 0, 0],\n         [0, 0, 0,  ..., 0, 0, 0],\n         ...,\n         [0, 1, 1,  ..., 0, 0, 0],\n         [0, 1, 1,  ..., 0, 0, 0],\n         [0, 1, 1,  ..., 0, 0, 0]])}"
     },
     "execution_count": 5,
     "metadata": {},
     "output_type": "execute_result"
    }
   ],
   "source": [
    "test_set[0]"
   ],
   "metadata": {
    "collapsed": false
   }
  },
  {
   "cell_type": "code",
   "execution_count": 5,
   "outputs": [],
   "source": [],
   "metadata": {
    "collapsed": false
   }
  }
 ],
 "metadata": {
  "kernelspec": {
   "display_name": "Python 3",
   "language": "python",
   "name": "python3"
  },
  "language_info": {
   "codemirror_mode": {
    "name": "ipython",
    "version": 2
   },
   "file_extension": ".py",
   "mimetype": "text/x-python",
   "name": "python",
   "nbconvert_exporter": "python",
   "pygments_lexer": "ipython2",
   "version": "2.7.6"
  }
 },
 "nbformat": 4,
 "nbformat_minor": 0
}
