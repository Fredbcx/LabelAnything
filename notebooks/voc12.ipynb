{
 "cells": [
  {
   "cell_type": "code",
   "execution_count": 1,
   "metadata": {},
   "outputs": [],
   "source": [
    "import cv2\n",
    "import numpy as np\n",
    "import os\n",
    "from shapely.geometry import Polygon\n",
    "import xml.etree.ElementTree as ET\n",
    "import pathlib\n",
    "from PIL import Image\n",
    "import json\n",
    "import uuid"
   ]
  },
  {
   "cell_type": "code",
   "execution_count": 2,
   "metadata": {},
   "outputs": [
    {
     "name": "stdout",
     "output_type": "stream",
     "text": [
      "2913\n"
     ]
    }
   ],
   "source": [
    "def get_items(root, ids):\n",
    "    images = []\n",
    "    all_boxes = []\n",
    "    all_masks = []\n",
    "    all_labels = []\n",
    "\n",
    "    for image_id in ids:\n",
    "        image = _get_images(root, image_id)\n",
    "        boxes, labels = _get_annotations(root, image_id)\n",
    "        masks = _get_masks(root, image_id)\n",
    "\n",
    "        images.append(image)\n",
    "        all_boxes.append(boxes)\n",
    "        all_masks.append(masks)\n",
    "        all_labels.append(labels)\n",
    "\n",
    "    return images, all_boxes, all_masks, all_labels\n",
    "\n",
    "\n",
    "def _read_image_ids(image_sets_file):\n",
    "    ids = []\n",
    "    with open(image_sets_file) as f:\n",
    "        for line in f:\n",
    "            ids.append(line.rstrip())\n",
    "    return ids\n",
    "\n",
    "\n",
    "def _get_images(root, image_id):\n",
    "    image_file = os.path.join(root, \"JPEGImages\", image_id + \".jpg\")\n",
    "    image = cv2.imread(str(image_file))\n",
    "    image = cv2.cvtColor(image, cv2.COLOR_BGR2RGB)\n",
    "    return image\n",
    "\n",
    "\n",
    "def _get_masks(root, image_id):\n",
    "    mask_file = os.path.join(root, \"SegmentationClass\", image_id + \".png\")\n",
    "    mask = np.array(Image.open(mask_file).convert(\"P\"))\n",
    "\n",
    "    contours, _ = cv2.findContours(mask, cv2.RETR_EXTERNAL, cv2.CHAIN_APPROX_SIMPLE)\n",
    "\n",
    "    polygons = []\n",
    "    for contour in contours:\n",
    "        contour = np.squeeze(contour, axis=1)\n",
    "        if len(contour) >= 4:\n",
    "            polygon = Polygon(contour)\n",
    "            polygons.append(polygon)\n",
    "\n",
    "    return polygons\n",
    "\n",
    "\n",
    "def _get_annotations(root, image_id):\n",
    "    annotation_file = os.path.join(root, \"Annotations\", image_id + \".xml\")\n",
    "    objects = ET.parse(annotation_file).findall(\"object\")\n",
    "    boxes = []\n",
    "    labels = []\n",
    "    for object in objects:\n",
    "        class_name = object.find(\"name\").text.lower().strip()\n",
    "        bbox = object.find(\"bndbox\")\n",
    "        x1 = float(bbox.find(\"xmin\").text) - 1\n",
    "        y1 = float(bbox.find(\"ymin\").text) - 1\n",
    "        x2 = float(bbox.find(\"xmax\").text) - 1\n",
    "        y2 = float(bbox.find(\"ymax\").text) - 1\n",
    "        boxes.append([x1, y1, x2, y2])\n",
    "        labels.append(class_name)\n",
    "\n",
    "    # return bbox y labels\n",
    "    return (np.array(boxes, dtype=np.float32), np.array(labels))\n",
    "\n",
    "\n",
    "# create the ids for images\n",
    "root = pathlib.Path(\"/home/emanuele/Dottorato/dataset-vari/VOC2012\")\n",
    "images_file = os.path.join(root, \"ImageSets\", \"Segmentation\", \"dataset.txt\")\n",
    "ids = _read_image_ids(images_file)\n",
    "print(len(ids))"
   ]
  },
  {
   "cell_type": "code",
   "execution_count": 3,
   "metadata": {},
   "outputs": [],
   "source": [
    "images, boxes, polygons, labels = get_items(root, ids)"
   ]
  },
  {
   "cell_type": "code",
   "execution_count": 5,
   "metadata": {},
   "outputs": [
    {
     "data": {
      "text/plain": [
       "{'info': {'description': 'VOC 2012 Dataset Annotations files',\n",
       "  'version': '1.0',\n",
       "  'year': 2024,\n",
       "  'contributor': 'CILAB',\n",
       "  'date_created': '02/01/2024'},\n",
       " 'images': [],\n",
       " 'annotations': [],\n",
       " 'categories': []}"
      ]
     },
     "execution_count": 5,
     "metadata": {},
     "output_type": "execute_result"
    }
   ],
   "source": [
    "instances_voc12 = {\n",
    "    \"info\": {\n",
    "        \"description\": \"VOC 2012 Dataset Annotations files\",\n",
    "        \"version\": \"1.0\",\n",
    "        \"year\": 2024,\n",
    "        \"contributor\": \"CILAB\",\n",
    "        \"date_created\": \"02/01/2024\",\n",
    "    },\n",
    "    \"images\": [\n",
    "        # {\n",
    "        #     \"file_name\": \"2007_000032\",\n",
    "        #     \"url\": \"VOC2012/JPEGImages/2007_000032.jpg\",\n",
    "        #     \"height\": 281,\n",
    "        #     \"width\": 500,\n",
    "        #     \"id\": 0,\n",
    "        # },\n",
    "        # {...},\n",
    "    ],\n",
    "    \"annotations\": [\n",
    "        # {\n",
    "        #     \"segmentation\": [\n",
    "        #         [\n",
    "        #             [117.0, 89.0],\n",
    "        #             [116.0, 90.0],\n",
    "        #             [109.0, 90.0],\n",
    "        #             [107.0, 92.0],\n",
    "        #             [134.0, 171.0],\n",
    "        #             [128.0, 171.0],\n",
    "        #             [127.0, 170.0],\n",
    "        #             [127.0, 137.0],\n",
    "        #         ]\n",
    "        #     ],\n",
    "        #     \"area\": 20098.5,\n",
    "        #     \"image_id\": 40,\n",
    "        #     \"bbox\": [118.0, 176.0, 330.0, 277.0],\n",
    "        #     \"category_id\": 9,\n",
    "        #     \"id\": 64,\n",
    "        # },\n",
    "        # {...},\n",
    "    ],\n",
    "    \"categories\": [\n",
    "        # {\"id\": 0, \"name\": \"sheep\"},\n",
    "        # {\"id\": 1, \"name\": \"bird\"},\n",
    "        # {\"id\": 2, \"name\": \"bus\"},\n",
    "        # {\"id\": 3, \"name\": \"cow\"},\n",
    "    ],\n",
    "}\n",
    "instances_voc12"
   ]
  },
  {
   "cell_type": "code",
   "execution_count": 42,
   "metadata": {},
   "outputs": [
    {
     "name": "stdout",
     "output_type": "stream",
     "text": [
      "0 [103.  77. 374. 182.] [(28.0, 184.0), (25.0, 187.0), (25.0, 188.0), (24.0, 189.0), (24.0, 190.0), (20.0, 194.0), (20.0, 202.0), (22.0, 204.0), (22.0, 213.0), (24.0, 215.0), (24.0, 216.0), (28.0, 220.0), (28.0, 231.0), (29.0, 232.0), (29.0, 236.0), (33.0, 240.0), (37.0, 240.0), (41.0, 236.0), (41.0, 228.0), (40.0, 227.0), (40.0, 220.0), (43.0, 217.0), (43.0, 215.0), (45.0, 213.0), (45.0, 205.0), (44.0, 204.0), (44.0, 203.0), (43.0, 202.0), (43.0, 201.0), (42.0, 200.0), (42.0, 197.0), (41.0, 196.0), (41.0, 195.0), (40.0, 194.0), (40.0, 189.0), (36.0, 185.0), (34.0, 185.0), (33.0, 184.0), (28.0, 184.0)] 2\n",
      "0 [132.  87. 196. 122.] [(23.0, 101.0), (22.0, 102.0), (18.0, 102.0), (17.0, 103.0), (12.0, 103.0), (11.0, 104.0), (7.0, 104.0), (6.0, 105.0), (3.0, 105.0), (3.0, 106.0), (2.0, 107.0), (2.0, 108.0), (0.0, 110.0), (0.0, 111.0), (22.0, 111.0), (23.0, 110.0), (46.0, 110.0), (46.0, 106.0), (45.0, 105.0), (45.0, 104.0), (44.0, 103.0), (35.0, 103.0), (34.0, 102.0), (25.0, 102.0), (24.0, 101.0), (23.0, 101.0)] 2\n",
      "0 [194. 179. 212. 228.] [(190.0, 83.0), (186.0, 87.0), (186.0, 88.0), (181.0, 93.0), (181.0, 96.0), (180.0, 97.0), (176.0, 97.0), (175.0, 98.0), (166.0, 98.0), (165.0, 99.0), (158.0, 99.0), (157.0, 100.0), (141.0, 100.0), (140.0, 101.0), (137.0, 101.0), (136.0, 102.0), (135.0, 102.0), (131.0, 106.0), (131.0, 107.0), (130.0, 108.0), (130.0, 112.0), (131.0, 113.0), (131.0, 114.0), (134.0, 117.0), (135.0, 117.0), (136.0, 118.0), (143.0, 118.0), (144.0, 117.0), (145.0, 117.0), (146.0, 116.0), (147.0, 116.0), (148.0, 117.0), (148.0, 118.0), (152.0, 122.0), (151.0, 123.0), (104.0, 123.0), (101.0, 126.0), (101.0, 130.0), (104.0, 133.0), (107.0, 133.0), (109.0, 135.0), (145.0, 135.0), (146.0, 136.0), (157.0, 136.0), (158.0, 137.0), (160.0, 137.0), (161.0, 138.0), (181.0, 138.0), (182.0, 139.0), (192.0, 139.0), (195.0, 142.0), (195.0, 155.0), (196.0, 156.0), (196.0, 158.0), (197.0, 159.0), (197.0, 160.0), (203.0, 166.0), (204.0, 166.0), (208.0, 170.0), (208.0, 171.0), (207.0, 172.0), (207.0, 176.0), (206.0, 177.0), (205.0, 177.0), (204.0, 176.0), (203.0, 176.0), (202.0, 175.0), (197.0, 175.0), (194.0, 178.0), (194.0, 184.0), (195.0, 185.0), (195.0, 187.0), (194.0, 188.0), (194.0, 228.0), (197.0, 231.0), (201.0, 231.0), (202.0, 230.0), (205.0, 230.0), (208.0, 227.0), (208.0, 218.0), (210.0, 216.0), (210.0, 215.0), (211.0, 214.0), (211.0, 208.0), (212.0, 207.0), (212.0, 190.0), (216.0, 186.0), (226.0, 186.0), (229.0, 183.0), (229.0, 181.0), (232.0, 178.0), (232.0, 171.0), (230.0, 169.0), (230.0, 168.0), (231.0, 167.0), (233.0, 167.0), (237.0, 163.0), (238.0, 163.0), (244.0, 157.0), (244.0, 155.0), (249.0, 150.0), (249.0, 148.0), (250.0, 147.0), (250.0, 146.0), (251.0, 145.0), (254.0, 145.0), (255.0, 146.0), (255.0, 156.0), (258.0, 159.0), (262.0, 159.0), (263.0, 158.0), (265.0, 160.0), (269.0, 160.0), (272.0, 157.0), (272.0, 145.0), (269.0, 142.0), (270.0, 141.0), (279.0, 141.0), (280.0, 140.0), (287.0, 140.0), (288.0, 139.0), (326.0, 139.0), (329.0, 136.0), (336.0, 136.0), (337.0, 135.0), (346.0, 135.0), (347.0, 134.0), (362.0, 134.0), (363.0, 133.0), (375.0, 133.0), (378.0, 130.0), (378.0, 126.0), (375.0, 123.0), (359.0, 123.0), (358.0, 124.0), (343.0, 124.0), (342.0, 125.0), (333.0, 125.0), (332.0, 126.0), (324.0, 126.0), (323.0, 127.0), (292.0, 127.0), (291.0, 128.0), (282.0, 128.0), (281.0, 129.0), (273.0, 129.0), (272.0, 128.0), (275.0, 125.0), (275.0, 122.0), (277.0, 120.0), (277.0, 112.0), (274.0, 109.0), (273.0, 109.0), (271.0, 107.0), (256.0, 107.0), (255.0, 108.0), (252.0, 105.0), (251.0, 105.0), (250.0, 104.0), (246.0, 104.0), (245.0, 103.0), (243.0, 103.0), (242.0, 102.0), (232.0, 102.0), (230.0, 104.0), (228.0, 104.0), (226.0, 106.0), (225.0, 106.0), (224.0, 107.0), (218.0, 107.0), (217.0, 106.0), (213.0, 106.0), (212.0, 107.0), (211.0, 107.0), (208.0, 110.0), (208.0, 112.0), (200.0, 120.0), (200.0, 121.0), (198.0, 123.0), (198.0, 125.0), (195.0, 128.0), (191.0, 128.0), (190.0, 127.0), (189.0, 127.0), (188.0, 126.0), (172.0, 126.0), (171.0, 125.0), (164.0, 125.0), (163.0, 124.0), (152.0, 124.0), (151.0, 123.0), (152.0, 122.0), (157.0, 122.0), (161.0, 118.0), (162.0, 119.0), (170.0, 119.0), (175.0, 114.0), (180.0, 114.0), (181.0, 113.0), (184.0, 113.0), (185.0, 112.0), (186.0, 112.0), (187.0, 111.0), (189.0, 111.0), (190.0, 110.0), (191.0, 110.0), (196.0, 105.0), (196.0, 99.0), (197.0, 98.0), (197.0, 93.0), (199.0, 91.0), (199.0, 87.0), (195.0, 83.0), (190.0, 83.0)] 0\n"
     ]
    }
   ],
   "source": [
    "categories = [\n",
    "    {\"id\": i, \"name\": name} for i, name in enumerate(set(np.concatenate(labels)))\n",
    "]\n",
    "category_to_id = {category[\"name\"]: category[\"id\"] for category in categories}\n",
    "\n",
    "for enum, (box, polygon, label) in enumerate(zip(boxes, polygons, labels)):\n",
    "    for b, p, l in zip(box, polygon, label):\n",
    "        print(enum, b, list(p.exterior.coords), category_to_id[l])\n",
    "    break"
   ]
  },
  {
   "cell_type": "code",
   "execution_count": 6,
   "metadata": {},
   "outputs": [],
   "source": [
    "def create_lvis_style_annotation(ids, images, boxes, polygons, labels, annotations):\n",
    "    # generate set of categories\n",
    "    annotations_images = []\n",
    "    annotations_segmentations = []\n",
    "\n",
    "    annotations_categories = [\n",
    "        {\"id\": i, \"name\": name} for i, name in enumerate(set(np.concatenate(labels)))\n",
    "    ]\n",
    "    category_to_id = {\n",
    "        category[\"name\"]: category[\"id\"] for category in annotations_categories\n",
    "    }\n",
    "\n",
    "    for enum, id_ in enumerate(ids):\n",
    "        # print(ids[i])\n",
    "        image = {\n",
    "            \"file_name\": id_,  # This is the only field that is compulsory\n",
    "            \"url\": f\"JPEGImages/{id_}.jpg\",\n",
    "            \"height\": images[enum].shape[0],\n",
    "            \"width\": images[enum].shape[1],\n",
    "            \"id\": enum,\n",
    "        }\n",
    "        annotations_images.append(image)\n",
    "\n",
    "    i = 0\n",
    "    for enum, (box, polygon, label) in enumerate(zip(boxes, polygons, labels)):\n",
    "        for b, p, l in zip(box, polygon, label):\n",
    "            annotation = {\n",
    "                \"segmentation\": [list(p.exterior.coords)],\n",
    "                \"area\": p.area,\n",
    "                \"image_id\": enum,\n",
    "                \"bbox\": b.tolist(),  # Assuming box is a list/array of [x_min, y_min, x_max, y_max]\n",
    "                \"category_id\": category_to_id[l],\n",
    "                \"id\": i,\n",
    "            }\n",
    "            annotations_segmentations.append(annotation)\n",
    "            i += 1\n",
    "\n",
    "    annotations[\"images\"] = annotations_images\n",
    "    annotations[\"annotations\"] = annotations_segmentations\n",
    "    annotations[\"categories\"] = annotations_categories\n",
    "    return annotations"
   ]
  },
  {
   "cell_type": "code",
   "execution_count": 7,
   "metadata": {},
   "outputs": [],
   "source": [
    "# generate file, if you want to use it in the future\n",
    "annotations = create_lvis_style_annotation(ids, images, boxes, polygons, labels, instances_voc12)"
   ]
  },
  {
   "cell_type": "code",
   "execution_count": 8,
   "metadata": {},
   "outputs": [],
   "source": [
    "with open('instances_voc12.json', 'w') as file:\n",
    "    json.dump(annotations, file)"
   ]
  },
  {
   "cell_type": "code",
   "execution_count": null,
   "metadata": {},
   "outputs": [],
   "source": [
    "with open('annotations.json', 'r') as f:\n",
    "    data = json.load(f)"
   ]
  },
  {
   "cell_type": "code",
   "execution_count": 4,
   "metadata": {},
   "outputs": [
    {
     "data": {
      "text/plain": [
       "'/home/emanuele/Dottorato/dataset-vari/VOC12/JPEGImages/2007_000042.jpg'"
      ]
     },
     "execution_count": 4,
     "metadata": {},
     "output_type": "execute_result"
    }
   ],
   "source": [
    "data = {\n",
    "    \"license\": 4,\n",
    "    \"file_name\": \"000000397133.jpg\",\n",
    "    \"coco_url\": \"http://images.cocodataset.org/val2017/000000397133.jpg\",\n",
    "    \"height\": 427,\n",
    "    \"width\": 640,\n",
    "    \"date_captured\": \"2013-11-14 17:02:52\",\n",
    "    \"flickr_url\": \"http://farm7.staticflickr.com/6116/6255196340_da26cf2c9e_z.jpg\",\n",
    "    \"id\": 397133,\n",
    "}\n",
    "image = {\n",
    "    \"file_name\": \"2007_000042\",\n",
    "    \"url\": \"JPEGImages/2007_000042.jpg\",\n",
    "    \"height\": 335,\n",
    "    \"width\": 500,\n",
    "    \"id\": 3,\n",
    "}\n",
    "dataset_path = \"/home/emanuele/Dottorato/dataset-vari/VOC12\"\n",
    "(f'{dataset_path}/{image[\"url\"]}')"
   ]
  }
 ],
 "metadata": {
  "kernelspec": {
   "display_name": "venv",
   "language": "python",
   "name": "python3"
  },
  "language_info": {
   "codemirror_mode": {
    "name": "ipython",
    "version": 3
   },
   "file_extension": ".py",
   "mimetype": "text/x-python",
   "name": "python",
   "nbconvert_exporter": "python",
   "pygments_lexer": "ipython3",
   "version": "3.11.7"
  }
 },
 "nbformat": 4,
 "nbformat_minor": 2
}
