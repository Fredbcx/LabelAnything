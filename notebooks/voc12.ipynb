{
 "cells": [
  {
   "cell_type": "code",
   "execution_count": 1,
   "metadata": {},
   "outputs": [],
   "source": [
    "import cv2\n",
    "import numpy as np\n",
    "import os\n",
    "from pycocotools import mask as mask_utils\n",
    "import xml.etree.ElementTree as ET\n",
    "import pathlib\n",
    "from PIL import Image\n",
    "import json\n",
    "import matplotlib.pyplot as plt\n",
    "from scipy.ndimage import binary_dilation, label"
   ]
  },
  {
   "cell_type": "markdown",
   "metadata": {},
   "source": [
    "### Funzioni utili\n"
   ]
  },
  {
   "cell_type": "code",
   "execution_count": 2,
   "metadata": {},
   "outputs": [
    {
     "name": "stdout",
     "output_type": "stream",
     "text": [
      "5826\n"
     ]
    }
   ],
   "source": [
    "def get_items(root, ids):\n",
    "    images = []\n",
    "    all_boxes = []\n",
    "    all_masks = []\n",
    "    all_labels = []\n",
    "\n",
    "    for image_id in ids:\n",
    "        image = _get_images(root, image_id)\n",
    "        masks, boxes = _get_boxes_and_masks(root, image_id)\n",
    "        labels = _get_label(root, image_id)\n",
    "\n",
    "        images.append(image)\n",
    "        all_boxes.append(boxes)\n",
    "        all_masks.append(masks)\n",
    "        all_labels.append(labels)\n",
    "\n",
    "    return images, all_boxes, all_masks, all_labels\n",
    "\n",
    "\n",
    "def _read_image_ids(image_sets_file):\n",
    "    ids = []\n",
    "    with open(image_sets_file) as f:\n",
    "        for line in f:\n",
    "            ids.append(line.rstrip())\n",
    "    return ids\n",
    "\n",
    "\n",
    "def _get_images(root, image_id):\n",
    "    image_file = os.path.join(root, \"JPEGImages\", image_id + \".jpg\")\n",
    "    image = cv2.imread(str(image_file))\n",
    "    image = cv2.cvtColor(image, cv2.COLOR_BGR2RGB)\n",
    "    return image\n",
    "\n",
    "\n",
    "def _get_boxes_and_masks(root, image_id):\n",
    "    mask_file = os.path.join(root, \"SegmentationObject\", image_id + \".png\")\n",
    "    mask_array = np.array(Image.open(mask_file))\n",
    "    unique_values = np.unique(mask_array)\n",
    "    masks = {}\n",
    "\n",
    "    for value in unique_values:\n",
    "        if value in [0, 255]:\n",
    "            # If the value is 0 or 255, add it to the mask for 0\n",
    "            _ = masks.get(0, np.zeros_like(mask_array)) | (mask_array == value)\n",
    "        else:\n",
    "            # Apply binary dilation before finding connected components\n",
    "            dilated_mask = binary_dilation(mask_array == value)\n",
    "            labeled_array, num_features = label(dilated_mask)\n",
    "            for i in range(1, num_features + 1):\n",
    "                masks[f\"{value}_{i}\"] = np.where(labeled_array == i, 1, 0)\n",
    "\n",
    "    rle_masks = {}\n",
    "    boxes = []\n",
    "\n",
    "    for key, value in masks.items():\n",
    "        rle = mask_utils.encode(np.asfortranarray(value.astype(np.uint8)))\n",
    "        rle[\"counts\"] = rle[\"counts\"].decode(\"utf-8\")  # Convert bytes to string\n",
    "        rle_masks[key] = rle\n",
    "\n",
    "        bbox = mask_utils.toBbox(rle)\n",
    "        boxes.append(bbox.tolist())\n",
    "\n",
    "    return rle_masks, np.array(boxes, dtype=np.float32)\n",
    "\n",
    "\n",
    "def _get_label(root, image_id):\n",
    "    annotation_file = os.path.join(root, \"Annotations\", image_id + \".xml\")\n",
    "    objects = ET.parse(annotation_file).findall(\"object\")\n",
    "    labels = []\n",
    "\n",
    "    for object in objects:\n",
    "        class_name = object.find(\"name\").text.lower().strip()\n",
    "        labels.append(class_name)\n",
    "\n",
    "    return np.array(labels)\n",
    "\n",
    "\n",
    "# create the ids for images\n",
    "root = pathlib.Path(\"/home/emanuele/LabelAnything/data/raw/VOCdevkit/VOC2012\")\n",
    "images_file = os.path.join(root, \"ImageSets\", \"Segmentation\", \"dataset.txt\")\n",
    "ids = _read_image_ids(images_file)\n",
    "print(len(ids))"
   ]
  },
  {
   "cell_type": "markdown",
   "metadata": {},
   "source": [
    "### Generazione items dataset\n"
   ]
  },
  {
   "cell_type": "code",
   "execution_count": 3,
   "metadata": {},
   "outputs": [],
   "source": [
    "images, boxes, polygons, labels = get_items(root, ids)  # time consuming: 2.46 minuti"
   ]
  },
  {
   "cell_type": "markdown",
   "metadata": {},
   "source": [
    "### JSON Formatting\n"
   ]
  },
  {
   "cell_type": "code",
   "execution_count": 4,
   "metadata": {},
   "outputs": [
    {
     "data": {
      "text/plain": [
       "{'info': {'description': 'VOC 2012 Dataset Annotations files',\n",
       "  'version': '1.0',\n",
       "  'year': 2024,\n",
       "  'contributor': 'CILAB',\n",
       "  'date_created': '02/01/2024'},\n",
       " 'images': [],\n",
       " 'annotations': [],\n",
       " 'categories': []}"
      ]
     },
     "execution_count": 4,
     "metadata": {},
     "output_type": "execute_result"
    }
   ],
   "source": [
    "instances_voc12 = {\n",
    "    \"info\": {\n",
    "        \"description\": \"VOC 2012 Dataset Annotations files\",\n",
    "        \"version\": \"1.0\",\n",
    "        \"year\": 2024,\n",
    "        \"contributor\": \"CILAB\",\n",
    "        \"date_created\": \"02/01/2024\",\n",
    "    },\n",
    "    \"images\": [\n",
    "        # {\n",
    "        #     \"file_name\": \"2007_000032\",\n",
    "        #     \"url\": \"VOC2012/JPEGImages/2007_000032.jpg\",\n",
    "        #     \"height\": 281,\n",
    "        #     \"width\": 500,\n",
    "        #     \"id\": 0,\n",
    "        # },\n",
    "        # {...},\n",
    "    ],\n",
    "    \"annotations\": [\n",
    "        # {\n",
    "        #     \"segmentation\": [\n",
    "        #         [\n",
    "        #             [117.0, 89.0],\n",
    "        #             [116.0, 90.0],\n",
    "        #             [109.0, 90.0],\n",
    "        #             [107.0, 92.0],\n",
    "        #             [134.0, 171.0],\n",
    "        #             [128.0, 171.0],\n",
    "        #             [127.0, 170.0],\n",
    "        #             [127.0, 137.0],\n",
    "        #         ]\n",
    "        #     ],\n",
    "        #     \"area\": 20098.5,\n",
    "        #     \"image_id\": 40,\n",
    "        #     \"bbox\": [118.0, 176.0, 330.0, 277.0],\n",
    "        #     \"category_id\": 9,\n",
    "        #     \"id\": 64,\n",
    "        # },\n",
    "        # {...},\n",
    "    ],\n",
    "    \"categories\": [\n",
    "        # {\"id\": 0, \"name\": \"sheep\"},\n",
    "        # {\"id\": 1, \"name\": \"bird\"},\n",
    "        # {\"id\": 2, \"name\": \"bus\"},\n",
    "        # {\"id\": 3, \"name\": \"cow\"},\n",
    "    ],\n",
    "}\n",
    "instances_voc12"
   ]
  },
  {
   "cell_type": "markdown",
   "metadata": {},
   "source": [
    "### Function to create lvis style annotations for voc12\n"
   ]
  },
  {
   "cell_type": "code",
   "execution_count": 5,
   "metadata": {},
   "outputs": [],
   "source": [
    "def create_annotation(ids, images, boxes, rle_masks, labels, annotations):\n",
    "    # generate set of categories\n",
    "    annotations_images = []\n",
    "    annotations_segmentations = []\n",
    "\n",
    "    annotations_categories = [\n",
    "        {\"id\": i, \"name\": name} for i, name in enumerate(set(np.concatenate(labels)))\n",
    "    ]\n",
    "    category_to_id = {\n",
    "        category[\"name\"]: category[\"id\"] for category in annotations_categories\n",
    "    }\n",
    "\n",
    "    for enum, id_ in enumerate(ids):\n",
    "        # print(ids[i])\n",
    "        image = {\n",
    "            \"file_name\": f\"JPEGImages/{id_}.jpg\",  # This is the only field that is compulsory\n",
    "            \"coco_url\": f\"JPEGImages/{id_}.jpg\",\n",
    "            \"height\": images[enum].shape[0],\n",
    "            \"width\": images[enum].shape[1],\n",
    "            \"id\": enum,\n",
    "        }\n",
    "        annotations_images.append(image)\n",
    "\n",
    "    i = 0\n",
    "    for enum, (box, rle, label) in enumerate(zip(boxes, rle_masks, labels)):\n",
    "        for b, (_, rle_value), l in zip(box, rle.items(), label):\n",
    "            annotation = {\n",
    "                \"segmentation\": rle_value,\n",
    "                \"area\": int(mask_utils.area(rle_value)),\n",
    "                \"image_id\": enum,\n",
    "                \"bbox\": b.tolist(),  # Assuming box is a list/array of [x_min, y_min, x_max, y_max]\n",
    "                \"category_id\": category_to_id[l],\n",
    "                \"id\": i,\n",
    "            }\n",
    "            annotations_segmentations.append(annotation)\n",
    "            i += 1\n",
    "\n",
    "    annotations[\"images\"] = annotations_images\n",
    "    annotations[\"annotations\"] = annotations_segmentations\n",
    "    annotations[\"categories\"] = annotations_categories\n",
    "    return annotations"
   ]
  },
  {
   "cell_type": "code",
   "execution_count": 6,
   "metadata": {},
   "outputs": [],
   "source": [
    "# generate file, if you want to use it in the future\n",
    "annotations = create_annotation(ids, images, boxes, polygons, labels, instances_voc12)"
   ]
  },
  {
   "cell_type": "code",
   "execution_count": 11,
   "metadata": {},
   "outputs": [
    {
     "data": {
      "text/plain": [
       "[{'id': 0, 'name': 'aeroplane'},\n",
       " {'id': 1, 'name': 'person'},\n",
       " {'id': 2, 'name': 'dog'},\n",
       " {'id': 3, 'name': 'bicycle'},\n",
       " {'id': 4, 'name': 'sheep'},\n",
       " {'id': 5, 'name': 'sofa'},\n",
       " {'id': 6, 'name': 'horse'},\n",
       " {'id': 7, 'name': 'chair'},\n",
       " {'id': 8, 'name': 'cow'},\n",
       " {'id': 9, 'name': 'cat'},\n",
       " {'id': 10, 'name': 'tvmonitor'},\n",
       " {'id': 11, 'name': 'bus'},\n",
       " {'id': 12, 'name': 'motorbike'},\n",
       " {'id': 13, 'name': 'train'},\n",
       " {'id': 14, 'name': 'bird'},\n",
       " {'id': 15, 'name': 'bottle'},\n",
       " {'id': 16, 'name': 'boat'},\n",
       " {'id': 17, 'name': 'diningtable'},\n",
       " {'id': 18, 'name': 'car'},\n",
       " {'id': 19, 'name': 'pottedplant'}]"
      ]
     },
     "execution_count": 11,
     "metadata": {},
     "output_type": "execute_result"
    }
   ],
   "source": [
    "annotations['categories']"
   ]
  },
  {
   "cell_type": "code",
   "execution_count": 10,
   "metadata": {},
   "outputs": [
    {
     "name": "stdout",
     "output_type": "stream",
     "text": [
      "0 [104.0, 105.0, 272.0, 79.0]\n"
     ]
    },
    {
     "data": {
      "image/png": "[encoded data removed]",
      "text/plain": [
       "<Figure size 640x480 with 1 Axes>"
      ]
     },
     "metadata": {},
     "output_type": "display_data"
    }
   ],
   "source": [
    "maschera = annotations[\"annotations\"][0][\"segmentation\"]\n",
    "label = annotations[\"annotations\"][0][\"category_id\"]\n",
    "maschera_array = mask_utils.decode(maschera)\n",
    "\n",
    "bbox = annotations[\"annotations\"][0][\"bbox\"]\n",
    "print(label, bbox)\n",
    "\n",
    "# Plot della maschera and bbox\n",
    "plt.imshow(maschera_array, cmap=\"gray\")\n",
    "plt.gca().add_patch(\n",
    "    plt.Rectangle(\n",
    "        (bbox[0], bbox[1]),\n",
    "        bbox[2],\n",
    "        bbox[3],\n",
    "        linewidth=0.5,\n",
    "        edgecolor=\"r\",\n",
    "        facecolor=\"none\",\n",
    "    )\n",
    ")\n",
    "plt.axis(\"off\")\n",
    "plt.show()"
   ]
  },
  {
   "cell_type": "code",
   "execution_count": 12,
   "metadata": {},
   "outputs": [
    {
     "name": "stdout",
     "output_type": "stream",
     "text": [
      "segmentation <class 'str'>\n",
      "area <class 'int'>\n",
      "image_id <class 'int'>\n",
      "bbox <class 'list'>\n",
      "category_id <class 'int'>\n",
      "id <class 'int'>\n"
     ]
    }
   ],
   "source": [
    "for k, v in annotations.get(\"annotations\")[0].items():\n",
    "    print(k, type(v))"
   ]
  },
  {
   "cell_type": "markdown",
   "metadata": {},
   "source": [
    "### Save file json\n"
   ]
  },
  {
   "cell_type": "code",
   "execution_count": 17,
   "metadata": {},
   "outputs": [],
   "source": [
    "with open(\"instances_voc12.json\", \"w\") as file:\n",
    "    json.dump(annotations, file)"
   ]
  },
  {
   "cell_type": "code",
   "execution_count": 4,
   "metadata": {},
   "outputs": [
    {
     "data": {
      "text/plain": [
       "'/home/emanuele/Dottorato/dataset-vari/VOC12/JPEGImages/2007_000042.jpg'"
      ]
     },
     "execution_count": 4,
     "metadata": {},
     "output_type": "execute_result"
    }
   ],
   "source": [
    "data = {\n",
    "    \"license\": 4,\n",
    "    \"file_name\": \"000000397133.jpg\",\n",
    "    \"coco_url\": \"http://images.cocodataset.org/val2017/000000397133.jpg\",\n",
    "    \"height\": 427,\n",
    "    \"width\": 640,\n",
    "    \"date_captured\": \"2013-11-14 17:02:52\",\n",
    "    \"flickr_url\": \"http://farm7.staticflickr.com/6116/6255196340_da26cf2c9e_z.jpg\",\n",
    "    \"id\": 397133,\n",
    "}\n",
    "image = {\n",
    "    \"file_name\": \"2007_000042\",\n",
    "    \"url\": \"JPEGImages/2007_000042.jpg\",\n",
    "    \"height\": 335,\n",
    "    \"width\": 500,\n",
    "    \"id\": 3,\n",
    "}\n",
    "dataset_path = \"/home/emanuele/Dottorato/dataset-vari/VOC12\"\n",
    "(f'{dataset_path}/{image[\"url\"]}')"
   ]
  }
 ],
 "metadata": {
  "kernelspec": {
   "display_name": "venv",
   "language": "python",
   "name": "python3"
  },
  "language_info": {
   "codemirror_mode": {
    "name": "ipython",
    "version": 3
   },
   "file_extension": ".py",
   "mimetype": "text/x-python",
   "name": "python",
   "nbconvert_exporter": "python",
   "pygments_lexer": "ipython3",
   "version": "3.11.6"
  }
 },
 "nbformat": 4,
 "nbformat_minor": 2
}
