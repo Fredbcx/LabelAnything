{
 "cells": [
  {
   "cell_type": "code",
   "execution_count": 20,
   "metadata": {},
   "outputs": [],
   "source": [
    "from pathlib import Path\n",
    "import sys\n",
    "from torchvision import transforms\n",
    "from torch.nn.functional import one_hot\n",
    "\n",
    "\n",
    "sys.path.append(str(Path.cwd().parent))\n",
    "sys.path.append(str(Path.cwd().parent / \"label_anything\"))\n",
    "sys.path.append(str(Path.cwd().parent / \"label_anything\" / \"data\"))\n",
    "\n",
    "import os\n",
    "from label_anything.data.test import LabelAnythingTestDataset\n",
    "from label_anything.data.utils import BatchKeys\n",
    "from torchvision.transforms import ToTensor\n",
    "from PIL import Image\n",
    "import json\n",
    "import random\n",
    "import torch\n",
    "from pycocotools import mask as mask_utils"
   ]
  },
  {
   "cell_type": "code",
   "execution_count": 22,
   "metadata": {},
   "outputs": [],
   "source": [
    "class BrainMriTestDataset(LabelAnythingTestDataset):\n",
    "    num_classes = 2\n",
    "\n",
    "    def __init__(\n",
    "        self,\n",
    "        annotations: str,\n",
    "        img_dir: str,\n",
    "        preprocess=None,\n",
    "    ):\n",
    "        super().__init__()\n",
    "        with open(annotations, \"r\") as f:\n",
    "            annotations = json.load(f)\n",
    "        self.annotations = annotations\n",
    "        self.img_dir = img_dir  # data/raw/lgg-mri-segmentation/kaggle_3m/\n",
    "        self.preprocess = preprocess\n",
    "        self.image_to_category = self._image_to_category()\n",
    "\n",
    "    def _image_to_category(self):\n",
    "        image_to_category = {}\n",
    "        for annotation in self.annotations[\"annotations\"]:\n",
    "            image_id = annotation[\"image_id\"]\n",
    "            category_id = annotation[\"category_id\"]\n",
    "            image_to_category[image_id] = category_id\n",
    "        return image_to_category\n",
    "\n",
    "    def __len__(self):\n",
    "        return len(self.annotations[\"images\"])\n",
    "\n",
    "    def extract_prompts(self):\n",
    "        cat_images = [\n",
    "            img for img, cat_id in self.image_to_category.items() if cat_id == 1\n",
    "        ]\n",
    "        selected_images = random.sample(cat_images, min(5, len(cat_images)))\n",
    "\n",
    "        # Get image data\n",
    "        image_data = [self._get_image_by_id(image_id) for image_id in selected_images]\n",
    "        images, sizes = zip(*image_data)\n",
    "        images = torch.stack(images)\n",
    "        sizes = torch.stack(sizes)\n",
    "\n",
    "        # Get ground truth data\n",
    "        masks = [self._get_gt_by_id(image_id) for image_id in selected_images]\n",
    "        masks = torch.stack(masks)\n",
    "\n",
    "        # Create flag masks\n",
    "        flag_masks = torch.tensor(\n",
    "            [1 if torch.sum(mask).item() > 0 else 0 for mask in masks]\n",
    "        )\n",
    "        masks = one_hot(masks.long(), 2).permute(0, 3, 1, 2).float()\n",
    "\n",
    "\n",
    "        return {\n",
    "            BatchKeys.IMAGES: images,\n",
    "            BatchKeys.PROMPT_MASKS: masks,\n",
    "            BatchKeys.FLAG_MASKS: flag_masks,\n",
    "            BatchKeys.DIMS: sizes,\n",
    "        }\n",
    "\n",
    "    def _get_image_by_id(self, image_id):\n",
    "        for image in self.annotations[\"images\"]:\n",
    "            if image[\"id\"] == image_id:\n",
    "                return self._get_image(image)\n",
    "\n",
    "    def _get_gt_by_id(self, image_id):\n",
    "        for annotation in self.annotations[\"annotations\"]:\n",
    "            if annotation[\"image_id\"] == image_id:\n",
    "                return self._get_gt(annotation)\n",
    "\n",
    "    def _get_image(self, image_info):\n",
    "        image_path = os.path.join(self.img_dir, image_info[\"url\"])\n",
    "        img = Image.open(image_path)\n",
    "        size = img.size\n",
    "        if self.preprocess:\n",
    "            img = self.preprocess(img)  # 3 x h x w\n",
    "        return img, torch.tensor(size)\n",
    "\n",
    "    def _get_gt(self, annotation_info):\n",
    "        mask = mask_utils.decode(annotation_info[\"segmentation\"])\n",
    "        if self.preprocess:\n",
    "            mask = torch.from_numpy(mask)\n",
    "        return mask\n",
    "\n",
    "    def __getitem__(self, idx):\n",
    "        image_info = self.annotations[\"images\"][idx]\n",
    "        annotation_info = self.annotations[\"annotations\"][idx]\n",
    "        image, _ = self._get_image(image_info)\n",
    "        size = torch.tensor(image.shape[1:]).unsqueeze(0)  # Example dimension\n",
    "        gt = self._get_gt(annotation_info)\n",
    "        return {\n",
    "            BatchKeys.IMAGES: image,\n",
    "            BatchKeys.DIMS: size,\n",
    "        }, gt  # {BatchKeys.GROUND_TRUTHS: gt}"
   ]
  },
  {
   "cell_type": "code",
   "execution_count": 16,
   "metadata": {},
   "outputs": [],
   "source": [
    "annotations = \"/home/emanuele/LabelAnything/data/annotations/brain_mri.json\"\n",
    "img_dir = \"/home/emanuele/LabelAnything/data/raw/lgg-mri-segmentation/kaggle_3m/\""
   ]
  },
  {
   "cell_type": "code",
   "execution_count": 23,
   "metadata": {},
   "outputs": [],
   "source": [
    "from label_anything.data.transforms import CustomNormalize, CustomResize\n",
    "\n",
    "preprocess = transforms.Compose(\n",
    "    [\n",
    "        CustomResize(1024),\n",
    "        transforms.PILToTensor(),\n",
    "        CustomNormalize(),\n",
    "    ]\n",
    ")\n",
    "dataset = BrainMriTestDataset(annotations, img_dir, preprocess=preprocess)\n",
    "dataloader = torch.utils.data.DataLoader(dataset, batch_size=2, shuffle=True)"
   ]
  },
  {
   "cell_type": "code",
   "execution_count": 24,
   "metadata": {},
   "outputs": [],
   "source": [
    "prompts = dataloader.dataset.extract_prompts()"
   ]
  },
  {
   "cell_type": "code",
   "execution_count": 25,
   "metadata": {},
   "outputs": [
    {
     "name": "stdout",
     "output_type": "stream",
     "text": [
      "images: torch.Size([5, 3, 1024, 1024])\n",
      "prompt_masks: torch.Size([5, 2, 256, 256])\n",
      "flag_masks: torch.Size([5])\n",
      "dims: torch.Size([5, 2])\n"
     ]
    }
   ],
   "source": [
    "for k, v in prompts.items():\n",
    "    print(f'{k}: {v.size()}')"
   ]
  },
  {
   "cell_type": "code",
   "execution_count": 27,
   "metadata": {},
   "outputs": [
    {
     "data": {
      "text/plain": [
       "torch.Size([5, 2, 256, 256])"
      ]
     },
     "execution_count": 27,
     "metadata": {},
     "output_type": "execute_result"
    }
   ],
   "source": [
    "prompt_masks = prompts[BatchKeys.PROMPT_MASKS]\n",
    "prompt_masks.size()"
   ]
  },
  {
   "cell_type": "code",
   "execution_count": 10,
   "metadata": {},
   "outputs": [
    {
     "data": {
      "image/png": "[encoded data removed]",
      "text/plain": [
       "<Figure size 500x500 with 1 Axes>"
      ]
     },
     "metadata": {},
     "output_type": "display_data"
    }
   ],
   "source": [
    "import numpy as np\n",
    "import matplotlib.pyplot as plt\n",
    "from pycocotools import mask as mask_util\n",
    "\n",
    "\n",
    "def plot_mask(segmentation, figsize=(5, 5)):\n",
    "    # Decodifica la maschera usando pycocotools\n",
    "    mask = mask_util.decode(segmentation)\n",
    "\n",
    "    # Crea una figura e un asse\n",
    "    fig, ax = plt.subplots(figsize=figsize)\n",
    "\n",
    "    # Mostra la maschera\n",
    "    ax.imshow(mask, cmap=\"gray\")\n",
    "    ax.axis(\"off\")\n",
    "\n",
    "    # Mostra il grafico\n",
    "    plt.show()\n",
    "\n",
    "\n",
    "maschera = {\n",
    "    \"size\": [256, 256],\n",
    "    \"counts\": \"\\\\SX14l71iI1Z41cK2\\\\40aK1_41_K0a41UKHQO7NGi59VKLQO:i5GXKd0f4[OZKg0e4XO\\\\Kh0d4XO\\\\Ki0c4VO`Kh0`4XO]Kl0b4TO^JOg0o0i4SO_J1e0o0i4QOaJ3c0n0k4oNbJ4a0o0k4oNcJ4`0n0l4]OSKc0m4^ORK=U5CiJ:\\\\5EbJAFa0j5M_JAHa0l5LYJFL<m5NVJEN=m5MUJFN<P6KSJHN<R6HRJLN9U6FnI017c6HaI3a6KbI2X7Llj?\",\n",
    "}\n",
    "plot_mask(maschera)"
   ]
  },
  {
   "cell_type": "code",
   "execution_count": 14,
   "metadata": {},
   "outputs": [
    {
     "data": {
      "text/plain": [
       "array([0, 1], dtype=uint8)"
      ]
     },
     "execution_count": 14,
     "metadata": {},
     "output_type": "execute_result"
    }
   ],
   "source": [
    "mask = mask_util.decode(maschera)\n",
    "np.unique(mask)"
   ]
  },
  {
   "cell_type": "code",
   "execution_count": 6,
   "metadata": {},
   "outputs": [
    {
     "name": "stdout",
     "output_type": "stream",
     "text": [
      "['images: torch.Size([2, 3, 1024, 1024])', 'dims: torch.Size([2, 1, 2])']\n",
      "masks: torch.Size([2, 3, 1024, 1024])\n"
     ]
    }
   ],
   "source": [
    "data_dict, gt = next(iter(dataloader))\n",
    "\n",
    "print(\n",
    "    [\n",
    "        f\"{k}: {v.size() if isinstance(v, torch.Tensor) else v}\"\n",
    "        for k, v in data_dict.items()\n",
    "    ]\n",
    ")\n",
    "# print([f\"{k}: {v.size() if isinstance(v, torch.Tensor) else v}\" for k, v in gt.items()])\n",
    "print(f'masks: {gt.size()}')"
   ]
  },
  {
   "cell_type": "code",
   "execution_count": null,
   "metadata": {},
   "outputs": [],
   "source": []
  },
  {
   "cell_type": "code",
   "execution_count": 8,
   "metadata": {},
   "outputs": [],
   "source": [
    "import matplotlib.pyplot as plt\n",
    "import torch"
   ]
  },
  {
   "cell_type": "code",
   "execution_count": 9,
   "metadata": {},
   "outputs": [
    {
     "name": "stdout",
     "output_type": "stream",
     "text": [
      "[2024-02-09 16:34:05] WARNING - image.py - Clipping input data to the valid range for imshow with RGB data ([0..1] for floats or [0..255] for integers).\n",
      "[2024-02-09 16:34:05] WARNING - image.py - Clipping input data to the valid range for imshow with RGB data ([0..1] for floats or [0..255] for integers).\n"
     ]
    },
    {
     "data": {
      "image/png": "[encoded data removed]",
      "text/plain": [
       "<Figure size 640x480 with 1 Axes>"
      ]
     },
     "metadata": {},
     "output_type": "display_data"
    },
    {
     "data": {
      "image/png": "[encoded data removed]",
      "text/plain": [
       "<Figure size 640x480 with 1 Axes>"
      ]
     },
     "metadata": {},
     "output_type": "display_data"
    }
   ],
   "source": [
    "images = gt.permute(0, 2, 3, 1).numpy()\n",
    "\n",
    "# Plot each image\n",
    "for i, image in enumerate(images):\n",
    "    plt.figure(i)\n",
    "    plt.imshow(image)\n",
    "\n",
    "plt.show()"
   ]
  },
  {
   "cell_type": "code",
   "execution_count": 5,
   "metadata": {},
   "outputs": [],
   "source": [
    "with open(annotations, \"r\") as f:\n",
    "    annotations_file = json.load(f)"
   ]
  },
  {
   "cell_type": "code",
   "execution_count": 19,
   "metadata": {},
   "outputs": [],
   "source": [
    "from pycocotools import mask as mask_utils\n",
    "\n",
    "i = mask_utils.decode(seg)\n",
    "# convert bbox to tensor\n",
    "bbox = torch.tensor(bbox)"
   ]
  },
  {
   "cell_type": "code",
   "execution_count": 10,
   "metadata": {},
   "outputs": [],
   "source": [
    "def image_to_category(annotations):\n",
    "    image_to_category = {}\n",
    "    for annotation in annotations[\"annotations\"]:\n",
    "        image_id = annotation[\"image_id\"]\n",
    "        category_id = annotation[\"category_id\"]\n",
    "        image_to_category[image_id] = category_id\n",
    "    return image_to_category"
   ]
  },
  {
   "cell_type": "code",
   "execution_count": 11,
   "metadata": {},
   "outputs": [],
   "source": [
    "a = image_to_category(annotations_file)"
   ]
  },
  {
   "cell_type": "code",
   "execution_count": null,
   "metadata": {},
   "outputs": [],
   "source": [
    "a"
   ]
  }
 ],
 "metadata": {
  "kernelspec": {
   "display_name": "venv",
   "language": "python",
   "name": "python3"
  },
  "language_info": {
   "codemirror_mode": {
    "name": "ipython",
    "version": 3
   },
   "file_extension": ".py",
   "mimetype": "text/x-python",
   "name": "python",
   "nbconvert_exporter": "python",
   "pygments_lexer": "ipython3",
   "version": "3.10.12"
  }
 },
 "nbformat": 4,
 "nbformat_minor": 2
}
